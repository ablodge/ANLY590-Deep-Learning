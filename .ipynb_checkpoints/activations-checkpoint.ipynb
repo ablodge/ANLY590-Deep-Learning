{
 "cells": [
  {
   "cell_type": "code",
   "execution_count": null,
   "metadata": {},
   "outputs": [],
   "source": [
    "def relu(x):\n",
    "    if x<0:\n",
    "        return 0\n",
    "    else:\n",
    "        return x\n",
    "    \n",
    "def relu_deriv(x):\n",
    "    return 0 if x<0 else 1\n",
    "\n",
    "def leaky_relu(x, a=0.1):\n",
    "    if x<0:\n",
    "        return a*x\n",
    "    else:\n",
    "        return x\n",
    "    \n",
    "def leaky_relu_deriv(x, a=0.1):\n",
    "    return a if x<0 else 1\n"
   ]
  }
 ],
 "metadata": {
  "kernelspec": {
   "display_name": "Python 3",
   "language": "python",
   "name": "python3"
  },
  "language_info": {
   "codemirror_mode": {
    "name": "ipython",
    "version": 3
   },
   "file_extension": ".py",
   "mimetype": "text/x-python",
   "name": "python",
   "nbconvert_exporter": "python",
   "pygments_lexer": "ipython3",
   "version": "3.6.5"
  }
 },
 "nbformat": 4,
 "nbformat_minor": 2
}
