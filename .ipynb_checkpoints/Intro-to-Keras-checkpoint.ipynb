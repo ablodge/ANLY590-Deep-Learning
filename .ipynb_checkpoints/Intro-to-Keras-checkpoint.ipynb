{
 "cells": [
  {
   "cell_type": "code",
   "execution_count": 1,
   "metadata": {},
   "outputs": [],
   "source": [
    "import numpy as np\n",
    "import matplotlib.pyplot as plt\n",
    "%matplotlib inline"
   ]
  },
  {
   "cell_type": "markdown",
   "metadata": {},
   "source": [
    "## Intro to Keras\n",
    "- You'll find that our programming style is very similar to how Keras has implemented networks and training\n",
    "- We'll introduce a number of keys concepts through examples\n",
    "- As the course progresses new methods and api calls will be introduced\n",
    "- We'll review the MNIST dataset and reconstruct our previously built networks using the Keras api"
   ]
  },
  {
   "cell_type": "markdown",
   "metadata": {},
   "source": [
    "### Data: Pipeline\n",
    "- Previously we saw how to download data using `keras`\n",
    "- Our data pipeline will follow the steps:\n",
    "    1. Download data\n",
    "    2. Check size of data\n",
    "    3. Convert numeric values to categories using one-hot-encoding\n",
    "    4. Convert data to `float32`\n",
    "    5. Reshape data \n",
    "    6. Rescale the data (so that the values are between 0 and 1)\n",
    "- The aforementioned steps are common in most pre-processing steps before the data can be used\n",
    "- As we move forward in the course a similar approach will be used with other datasets\n",
    "- Note:\n",
    "    - When saving a model's weights, `tf.keras defaults` to the checkpoint format\n",
    "    - Pass `save_format='h5'` to use `HDF5`"
   ]
  },
  {
   "cell_type": "code",
   "execution_count": 2,
   "metadata": {},
   "outputs": [
    {
     "name": "stderr",
     "output_type": "stream",
     "text": [
      "C:\\Users\\austi\\Anaconda3\\lib\\site-packages\\h5py\\__init__.py:36: FutureWarning: Conversion of the second argument of issubdtype from `float` to `np.floating` is deprecated. In future, it will be treated as `np.float64 == np.dtype(float).type`.\n",
      "  from ._conv import register_converters as _register_converters\n",
      "Using TensorFlow backend.\n"
     ]
    },
    {
     "name": "stdout",
     "output_type": "stream",
     "text": [
      "Downloading data from https://s3.amazonaws.com/img-datasets/mnist.npz\n",
      "11493376/11490434 [==============================] - 1s 0us/step\n",
      "The number of training examples: (60000, 28, 28)\n",
      "The number of test examples: (10000, 28, 28)\n"
     ]
    },
    {
     "data": {
      "image/png": "[encoded data removed]",
      "text/plain": [
       "<Figure size 432x288 with 1 Axes>"
      ]
     },
     "metadata": {},
     "output_type": "display_data"
    }
   ],
   "source": [
    "# --- Load data ---\n",
    "from keras.datasets import mnist\n",
    "from keras.utils import np_utils\n",
    "\n",
    "# Load pre-shuffled MNIST data into train and test sets\n",
    "(X_train, y_train), (X_test, y_test) = mnist.load_data()\n",
    "\n",
    "# --- Checking size of MNIST Set ---\n",
    "print(\"The number of training examples: \"+str(X_train.shape))\n",
    "print(\"The number of test examples: \"+str(X_test.shape))\n",
    "\n",
    "# --- Y_train to categorical ---\n",
    "# Need to change these from numbers to categories\n",
    "Y_train = np_utils.to_categorical(y_train, 10)\n",
    "Y_test = np_utils.to_categorical(y_test, 10)\n",
    "\n",
    "# --- Plotting data ---\n",
    "from matplotlib import pyplot as plt\n",
    "plt.imshow(X_train[0])\n",
    "\n",
    "# --- Converting type and Normalize Values ---\n",
    "n_train, l_train, w_train = X_train.shape\n",
    "n_test, l_test, w_test = X_test.shape\n",
    "X_train = X_train.astype('float32').reshape(n_train, l_train * w_train)\n",
    "X_test = X_test.astype('float32').reshape(n_test, l_test * w_test)\n",
    "X_train /= 255\n",
    "X_test /= 255\n",
    "\n",
    "# -- Split Train/Validation set --\n",
    "n_val = 3000\n",
    "X_val = X_train[:n_val,:]; X_train = X_train[n_val:,:]\n",
    "Y_val = Y_train[:n_val,:]; Y_train = Y_train[n_val:,:]"
   ]
  },
  {
   "cell_type": "markdown",
   "metadata": {},
   "source": [
    "### Build a simple model\n",
    "- Keras has two ways to build models:\n",
    "    1. Sequential - stacked layers\n",
    "    2. Functional - multi input/output, recursive cells\n",
    "- Over the next couple of sessions we'll use the sequential model\n",
    "- The functional approach will come into play in the later parts of the session\n",
    "\n",
    "#### Connecting networks\n",
    "- Previously the input-output matrix shape needed to be specified for each layer \n",
    "- Being explicit about shapes is always a good idea since it forces you to think the architecture of the model\n",
    "- `keras` however provides automatic shape inference \n",
    "- Only the first layer's shape needs to be specified, it can be done in several ways:\n",
    "    - `input_shape` - tuple of integers\n",
    "    - `input_dim` - for 2D layers\n",
    "    - `input_dim`, `input_length` - for 3D temporal layers\n",
    "    - *`batch_size` - may be included as an optional parameter with shape, i.e. `batch_size=32, input_shape=(6,8)`"
   ]
  },
  {
   "cell_type": "code",
   "execution_count": 3,
   "metadata": {},
   "outputs": [
    {
     "name": "stdout",
     "output_type": "stream",
     "text": [
      "_________________________________________________________________\n",
      "Layer (type)                 Output Shape              Param #   \n",
      "=================================================================\n",
      "dense_1 (Dense)              (None, 64)                50240     \n",
      "_________________________________________________________________\n",
      "dense_2 (Dense)              (None, 64)                4160      \n",
      "_________________________________________________________________\n",
      "dense_3 (Dense)              (None, 10)                650       \n",
      "=================================================================\n",
      "Total params: 55,050\n",
      "Trainable params: 55,050\n",
      "Non-trainable params: 0\n",
      "_________________________________________________________________\n"
     ]
    }
   ],
   "source": [
    "# --- Import Librarires ----\n",
    "import tensorflow as tf\n",
    "from keras import Sequential\n",
    "from keras.layers import Input, Dense\n",
    "from keras.models import Model\n",
    "\n",
    "# --- Setting up a Sigmoid Sequential Model ---\n",
    "# Initialize model\n",
    "model = Sequential()\n",
    "# Adds a densely-connected layer with 64 units to the model:\n",
    "model.add(Dense(64, input_shape = (784,), activation='sigmoid'))\n",
    "# Add another:\n",
    "model.add(Dense(64, activation='sigmoid'))\n",
    "# Add a softmax layer with 10 output units:\n",
    "model.add(Dense(10, activation='softmax'))\n",
    "# Check model summary\n",
    "model.summary()"
   ]
  },
  {
   "cell_type": "markdown",
   "metadata": {},
   "source": [
    "### Plotting Networks\n"
   ]
  },
  {
   "cell_type": "code",
   "execution_count": 4,
   "metadata": {},
   "outputs": [
    {
     "ename": "ImportError",
     "evalue": "Failed to import `pydot`. Please install `pydot`. For example with `pip install pydot`.",
     "output_type": "error",
     "traceback": [
      "\u001b[1;31m---------------------------------------------------------------------------\u001b[0m",
      "\u001b[1;31mImportError\u001b[0m                               Traceback (most recent call last)",
      "\u001b[1;32m<ipython-input-4-231b805e7900>\u001b[0m in \u001b[0;36m<module>\u001b[1;34m()\u001b[0m\n\u001b[0;32m      7\u001b[0m            \u001b[0mshow_shapes\u001b[0m\u001b[1;33m=\u001b[0m\u001b[1;32mTrue\u001b[0m\u001b[1;33m,\u001b[0m\u001b[1;33m\u001b[0m\u001b[0m\n\u001b[0;32m      8\u001b[0m            \u001b[0mshow_layer_names\u001b[0m\u001b[1;33m=\u001b[0m\u001b[1;32mTrue\u001b[0m\u001b[1;33m,\u001b[0m\u001b[1;33m\u001b[0m\u001b[0m\n\u001b[1;32m----> 9\u001b[1;33m            rankdir='TB') #'TB' = vertical plot, 'LR' = Horizontal plot\n\u001b[0m\u001b[0;32m     10\u001b[0m \u001b[1;33m\u001b[0m\u001b[0m\n\u001b[0;32m     11\u001b[0m \u001b[1;31m# -- Libraries for plotting inline --\u001b[0m\u001b[1;33m\u001b[0m\u001b[1;33m\u001b[0m\u001b[0m\n",
      "\u001b[1;32m~\\Anaconda3\\lib\\site-packages\\keras\\utils\\vis_utils.py\u001b[0m in \u001b[0;36mplot_model\u001b[1;34m(model, to_file, show_shapes, show_layer_names, rankdir)\u001b[0m\n\u001b[0;32m    130\u001b[0m             \u001b[1;34m'LR'\u001b[0m \u001b[0mcreates\u001b[0m \u001b[0ma\u001b[0m \u001b[0mhorizontal\u001b[0m \u001b[0mplot\u001b[0m\u001b[1;33m.\u001b[0m\u001b[1;33m\u001b[0m\u001b[0m\n\u001b[0;32m    131\u001b[0m     \"\"\"\n\u001b[1;32m--> 132\u001b[1;33m     \u001b[0mdot\u001b[0m \u001b[1;33m=\u001b[0m \u001b[0mmodel_to_dot\u001b[0m\u001b[1;33m(\u001b[0m\u001b[0mmodel\u001b[0m\u001b[1;33m,\u001b[0m \u001b[0mshow_shapes\u001b[0m\u001b[1;33m,\u001b[0m \u001b[0mshow_layer_names\u001b[0m\u001b[1;33m,\u001b[0m \u001b[0mrankdir\u001b[0m\u001b[1;33m)\u001b[0m\u001b[1;33m\u001b[0m\u001b[0m\n\u001b[0m\u001b[0;32m    133\u001b[0m     \u001b[0m_\u001b[0m\u001b[1;33m,\u001b[0m \u001b[0mextension\u001b[0m \u001b[1;33m=\u001b[0m \u001b[0mos\u001b[0m\u001b[1;33m.\u001b[0m\u001b[0mpath\u001b[0m\u001b[1;33m.\u001b[0m\u001b[0msplitext\u001b[0m\u001b[1;33m(\u001b[0m\u001b[0mto_file\u001b[0m\u001b[1;33m)\u001b[0m\u001b[1;33m\u001b[0m\u001b[0m\n\u001b[0;32m    134\u001b[0m     \u001b[1;32mif\u001b[0m \u001b[1;32mnot\u001b[0m \u001b[0mextension\u001b[0m\u001b[1;33m:\u001b[0m\u001b[1;33m\u001b[0m\u001b[0m\n",
      "\u001b[1;32m~\\Anaconda3\\lib\\site-packages\\keras\\utils\\vis_utils.py\u001b[0m in \u001b[0;36mmodel_to_dot\u001b[1;34m(model, show_shapes, show_layer_names, rankdir)\u001b[0m\n\u001b[0;32m     53\u001b[0m     \u001b[1;32mfrom\u001b[0m \u001b[1;33m.\u001b[0m\u001b[1;33m.\u001b[0m\u001b[0mmodels\u001b[0m \u001b[1;32mimport\u001b[0m \u001b[0mSequential\u001b[0m\u001b[1;33m\u001b[0m\u001b[0m\n\u001b[0;32m     54\u001b[0m \u001b[1;33m\u001b[0m\u001b[0m\n\u001b[1;32m---> 55\u001b[1;33m     \u001b[0m_check_pydot\u001b[0m\u001b[1;33m(\u001b[0m\u001b[1;33m)\u001b[0m\u001b[1;33m\u001b[0m\u001b[0m\n\u001b[0m\u001b[0;32m     56\u001b[0m     \u001b[0mdot\u001b[0m \u001b[1;33m=\u001b[0m \u001b[0mpydot\u001b[0m\u001b[1;33m.\u001b[0m\u001b[0mDot\u001b[0m\u001b[1;33m(\u001b[0m\u001b[1;33m)\u001b[0m\u001b[1;33m\u001b[0m\u001b[0m\n\u001b[0;32m     57\u001b[0m     \u001b[0mdot\u001b[0m\u001b[1;33m.\u001b[0m\u001b[0mset\u001b[0m\u001b[1;33m(\u001b[0m\u001b[1;34m'rankdir'\u001b[0m\u001b[1;33m,\u001b[0m \u001b[0mrankdir\u001b[0m\u001b[1;33m)\u001b[0m\u001b[1;33m\u001b[0m\u001b[0m\n",
      "\u001b[1;32m~\\Anaconda3\\lib\\site-packages\\keras\\utils\\vis_utils.py\u001b[0m in \u001b[0;36m_check_pydot\u001b[1;34m()\u001b[0m\n\u001b[0;32m     18\u001b[0m     \u001b[1;32mif\u001b[0m \u001b[0mpydot\u001b[0m \u001b[1;32mis\u001b[0m \u001b[1;32mNone\u001b[0m\u001b[1;33m:\u001b[0m\u001b[1;33m\u001b[0m\u001b[0m\n\u001b[0;32m     19\u001b[0m         raise ImportError(\n\u001b[1;32m---> 20\u001b[1;33m             \u001b[1;34m'Failed to import `pydot`. '\u001b[0m\u001b[1;33m\u001b[0m\u001b[0m\n\u001b[0m\u001b[0;32m     21\u001b[0m             \u001b[1;34m'Please install `pydot`. '\u001b[0m\u001b[1;33m\u001b[0m\u001b[0m\n\u001b[0;32m     22\u001b[0m             'For example with `pip install pydot`.')\n",
      "\u001b[1;31mImportError\u001b[0m: Failed to import `pydot`. Please install `pydot`. For example with `pip install pydot`."
     ]
    }
   ],
   "source": [
    "# --- Visualizing the model ----\n",
    "# Note: pydot and graphviz required to run command\n",
    "from keras.utils import plot_model\n",
    "# -- Save model to file --\n",
    "plot_model(model, \n",
    "           to_file='/home/joshuah/Desktop/github/guLectureNotes/model.png',\n",
    "           show_shapes=True,\n",
    "           show_layer_names=True,\n",
    "           rankdir='TB') #'TB' = vertical plot, 'LR' = Horizontal plot\n",
    "\n",
    "# -- Libraries for plotting inline --\n",
    "from IPython.display import SVG\n",
    "from keras.utils.vis_utils import model_to_dot\n",
    "SVG(model_to_dot(model).create(prog='dot', format='svg'))"
   ]
  },
  {
   "cell_type": "markdown",
   "metadata": {},
   "source": [
    "### Configure the layers\n",
    "- Different layer types are available along with common constructor parameters:\n",
    "- Among the most important is `activation`:\n",
    "    - `sigmoid`,`softmax`, `tanh`, `hard_sigmoid`\n",
    "    - `relu`, `elu`,`selu`\n",
    "    - `linear`\n",
    "    - `softsign`, `softplus`\n",
    "- Advanced activation layers such as `PReLu` and `LeakyReLu` are available through `keras.layers.advanced_activations`\n",
    "- To read more vist the [Advanced Activation Layer](https://keras.io/layers/advanced-activations/) documentation"
   ]
  },
  {
   "cell_type": "code",
   "execution_count": null,
   "metadata": {},
   "outputs": [],
   "source": [
    "# --- Setting up a ReLu Sequential Model ---\n",
    "model2 = Sequential()\n",
    "model2.add(Dense(64,activation='relu', input_shape = (784,)))\n",
    "model2.add(Dense(64, activation='relu'))\n",
    "model2.add(Dense(10, activation='softmax'))\n",
    "model.summary()"
   ]
  },
  {
   "cell_type": "markdown",
   "metadata": {},
   "source": [
    "- Additional parameters when configuring layers include:    \n",
    "    - `use_bias`: boolean indication if bias should be used\n",
    "    - `kernel_initialize` and `bias_initialize`: initializes weight values `\"Glorot uniform\"` is the default\n",
    "    - `kernel_regularizer` and `bias_regularizer`: regularization schemes applied to different layers\n",
    "    - `kernel_constraint` and `bias_constraint` : construction applied to the kernel weights matrix and bias vector respectively"
   ]
  },
  {
   "cell_type": "code",
   "execution_count": null,
   "metadata": {},
   "outputs": [],
   "source": [
    "# --- Setting up a ReLu Sequential Model with Regularizers ---\n",
    "from keras.regularizers import l1, l2\n",
    "from keras.initializers import constant\n",
    "# -- Model build --\n",
    "model3 = Sequential()\n",
    "# ReLu L1 regularization of factor 0.01 applied to the kernel matrix:\n",
    "model3.add(Dense(64, \n",
    "                 activation = 'relu',\n",
    "                 kernel_regularizer=l1(0.01),\n",
    "                 input_shape = (451,)))\n",
    "\n",
    "# ReLu with L2 regularization of factor 0.01 applied to the bias vector:\n",
    "model3.add(Dense(64, bias_regularizer=l2(0.01)))\n",
    "# Layer with a kernel initialized to a random orthogonal matrix:\n",
    "model3.add(Dense(64, kernel_initializer='orthogonal'))\n",
    "# Layer with a bias vector initialized to 2.0s:\n",
    "model3.add(Dense(64, bias_initializer=constant(2.0)))\n",
    "# Sigmoid output unit\n",
    "model3.add(Dense(10, activation='softmax'))\n",
    "# Model summary\n",
    "model3.summary()"
   ]
  },
  {
   "cell_type": "markdown",
   "metadata": {},
   "source": [
    "### Compiling a model\n",
    "- Once the model is constructed it needs to be __compiled__\n",
    "- Compiling a model means telling the computer to lazily evaluate:\n",
    "    - The architecture\n",
    "    - Optimization method\n",
    "    - Number of batches\n",
    "    - Metrics to follow\n",
    "- Depending on the type of problem the appropriate parameters will need to be selected\n",
    "- Inputs for the compilation method include:\n",
    "    - `optimizer`: the type of optimization method used during training, common parameters include: `AdamOptimizer`, `RMSPropOptimizer`, `GradientDescentOptimizer`\n",
    "    - ` loss`: function to minimize during optimization\n",
    "        - `mse`: regression\n",
    "        - `categorical_crossentropy`: multiclass-classificaation\n",
    "        - `binary_crossentropy`: vanilla classification\n",
    "    - `mae`: metrics used to monitor training"
   ]
  },
  {
   "cell_type": "code",
   "execution_count": null,
   "metadata": {},
   "outputs": [],
   "source": [
    "# For a multi-class classification problem\n",
    "model.compile(optimizer='rmsprop',\n",
    "              loss='categorical_crossentropy',\n",
    "              metrics=['accuracy'])"
   ]
  },
  {
   "cell_type": "markdown",
   "metadata": {},
   "source": [
    "- There might be times when you want to setup a __custom loss metric__:\n",
    "```{python}\n",
    "# --- For custom metrics ---\n",
    "# Import keras backend\n",
    "import keras.backend as K\n",
    "# - Customer metric - \n",
    "def mean_pred(y_true, y_pred):\n",
    "    return K.mean(y_pred)\n",
    "# Compile model with custom metric\n",
    "model.compile(optimizer='rmsprop',\n",
    "              loss='binary_crossentropy',\n",
    "              metrics=['accuracy', mean_pred])\n",
    "```\n",
    "\n",
    "- Setting the __optimization hyperparameters __ can also be done before compiling:\n",
    "```\n",
    "sgd = SGD(lr=0.01, decay=1e-6, momentum=0.9, nesterov=True)\n",
    "model.compile(loss='categorical_crossentropy',\n",
    "              optimizer=sgd,\n",
    "              metrics=['accuracy'])\n",
    "```\n",
    "- There are many __Optimizers__ to choose from, read more at:\n",
    " * https://keras.io/optimizers/"
   ]
  },
  {
   "cell_type": "markdown",
   "metadata": {},
   "source": [
    "### Training and evaluating\n",
    "- Use the function `fit` to train the model\n",
    "- Several options exist within the `fit` call:\n",
    "    - `batch_size`: \n",
    "        - The model slices the data into smaller batches and iterates over these batches during training\n",
    "        - This integer specifies the size of each batch\n",
    "        - Recall smaller batch sizes occupy less memory and are closer to online gradient descent\n",
    "    - `epochs` : number of times to iterate over the data\n",
    "    - `shuffle`: shuffle the data\n",
    "    - `validation_data`: validation set\n"
   ]
  },
  {
   "cell_type": "code",
   "execution_count": null,
   "metadata": {},
   "outputs": [],
   "source": [
    "# Train neural network\n",
    "from time import time\n",
    "start_time = time()\n",
    "history_64 = model.fit(X_train, Y_train,\n",
    "              batch_size=64, # Batch sizes - runtime scales ~linearly\n",
    "              verbose = 1,\n",
    "              epochs=3, \n",
    "              shuffle=False,\n",
    "              validation_data=(X_val, Y_val))\n",
    "time_to_complete = time()- start_time\n",
    "print(\"Batch size 64: takes {} seconds to complete\".format(time_to_complete))"
   ]
  },
  {
   "cell_type": "code",
   "execution_count": null,
   "metadata": {},
   "outputs": [],
   "source": [
    "# --- Plotting data/training model ---\n",
    "import matplotlib.pyplot as plt\n",
    "\n",
    "# Get loss function\n",
    "loss = history_64.history['loss']\n",
    "val_loss = history_64.history['val_loss']\n",
    "\n",
    "# Setup grid for plotting\n",
    "epochs =range(1, len(loss) + 1)\n",
    "# Plot\n",
    "plt.plot(epochs, loss, 'bo', label='Training Loss')\n",
    "plt.plot(epochs, val_loss, 'b', label='Validation Loss')\n",
    "plt.title('Training and validation loss')\n",
    "plt.xlabel('Epochs')\n",
    "plt.ylabel('Loss')\n",
    "plt.legend()\n",
    "plt.show()"
   ]
  },
  {
   "cell_type": "markdown",
   "metadata": {},
   "source": [
    "### Evaluating model performance\n",
    "- Several options exist for evaluate model performance\n",
    "- We can predict the output values using:\n",
    "    - `model.predict` and \n",
    "    - `model.predict_classes` - wrapper for model.predict for classes\n",
    "- Alternatively we can use the `model.evaluate` function and score it's performance "
   ]
  },
  {
   "cell_type": "code",
   "execution_count": null,
   "metadata": {},
   "outputs": [],
   "source": [
    "# --- Evaluation metrics ---\n",
    "import numpy as np\n",
    "# Evaluation metrics\n",
    "score = model.evaluate(X_test, Y_test, batch_size=64)\n",
    "predict_probabilities = model.predict(X_test, batch_size = 64)\n",
    "predict_classes = model.predict_classes(X_test, batch_size = 64)\n",
    "\n",
    "# -- Check to show predict and predict_classes are the same --\n",
    "classes_from_probs =  np.argmax(predict_probabilities, axis = 1)\n",
    "assert(np.alltrue(predict_classes == classes_from_probs))"
   ]
  },
  {
   "cell_type": "code",
   "execution_count": null,
   "metadata": {},
   "outputs": [],
   "source": [
    "print(\n",
    "\"\"\"\n",
    "On the test set:\n",
    "The mean validation loss is: {mean_test_loss},\n",
    "The mean accuracy score is: {mean_test_accuracy}\n",
    "The first 5 predict probabilites are: {pred_class}\n",
    "\"\"\".format(mean_test_loss = score[0],\n",
    "           mean_test_accuracy = score[1],\n",
    "          pred_class = predict_classes[:5]))"
   ]
  },
  {
   "cell_type": "markdown",
   "metadata": {},
   "source": [
    "### Regularization and parameter tuning\n",
    "- Previously we saw that L1/L2 regularization could easily be incorporated in the activation unit\n",
    "- Other regularizers are added to the network slightly differently\n",
    "- Below we present a network with dropout, custom RMSprop parameters and early stopping"
   ]
  },
  {
   "cell_type": "code",
   "execution_count": null,
   "metadata": {},
   "outputs": [],
   "source": [
    "# --- Setting up a ReLu Sequential Model with Dropout  ---\n",
    "from keras.layers import Dropout\n",
    "# Build model\n",
    "model4 = Sequential()\n",
    "model4.add(Dense(64,activation='relu', input_shape = (784,)))\n",
    "model4.add(Dropout(0.2))\n",
    "model4.add(Dense(64, activation='relu'))\n",
    "model4.add(Dropout(0.2))\n",
    "model4.add(Dense(10, activation='softmax'))\n",
    "model4.summary()\n",
    "\n",
    "# --- Modifying training parameters ---\n",
    "from keras.optimizers import RMSprop\n",
    "opt = RMSprop(lr=0.0001, decay=1e-6)\n",
    "model4.compile(loss='categorical_crossentropy', \n",
    "              optimizer=opt, \n",
    "              metrics=['accuracy'])\n",
    "\n",
    "# --- Early stopping ---\n",
    "from keras.callbacks import EarlyStopping\n",
    "early_stopping_monitor = EarlyStopping(patience=2)\n",
    "model4.fit(X_train, Y_train,\n",
    "               batch_size=64, \n",
    "               epochs= 3,\n",
    "               verbose = 0,\n",
    "               validation_data=(X_val, Y_val),\n",
    "               callbacks=[early_stopping_monitor])"
   ]
  },
  {
   "cell_type": "markdown",
   "metadata": {},
   "source": [
    "### Saving/reloading models\n",
    "- Saving a model in `HDF5` format allows you to load\n",
    "    - The architecture of the model, allowing to re-create the model\n",
    "    - Weights\n",
    "    - Training configuration (loss, optimizer)\n",
    "    - State of the optimizer (you can resume training where you left off)\n",
    "- To save a model in `HDF5` format you will need to install `h5py`\n",
    "- Models can be saved by architecture and weight components in different formats (`YAML`, `json`)\n",
    "- Componentizing this approach offers certain benefits:\n",
    "    - Saving architecture's rather than all the weights frees up space\n",
    "    - Saving only weights makes sense if you already have the model\n",
    "    - Saving models in different formats allows you to port them to other `tensorflow` and `keras` ports/backends such as `tensorflow.js`"
   ]
  },
  {
   "cell_type": "code",
   "execution_count": null,
   "metadata": {},
   "outputs": [],
   "source": [
    "# --- Setting up directory --\n",
    "import os\n",
    "base_dir = os.getcwd()\n",
    "\n",
    "# --- Saving full models in HDF5 Format ---\n",
    "from keras.models import load_model\n",
    "# Save model in HDF5 fomrat\n",
    "model.save(os.path.join(base_dir,'my_model.h5')) \n",
    "# Deletes existing model\n",
    "del model \n",
    "\n",
    "# --- Load model ---\n",
    "# Returns a compiled model identical to the previous one\n",
    "model = load_model(os.path.join(base_dir,'my_model.h5'))"
   ]
  },
  {
   "cell_type": "code",
   "execution_count": null,
   "metadata": {},
   "outputs": [],
   "source": [
    "# --- Saving only a models architecture ---\n",
    "# Convert model to JSON\n",
    "json_string = model.to_json()\n",
    "\n",
    "# Convert model to YAML\n",
    "yaml_string = model.to_yaml()\n",
    "\n",
    "# --- Reconstructing model from different formats ---\n",
    "from keras.models import model_from_json\n",
    "from keras.models import model_from_yaml\n",
    "# JSON model reload\n",
    "model_json = model_from_json(json_string)\n",
    "# YAML model load\n",
    "model_yaml = model_from_yaml(yaml_string)"
   ]
  },
  {
   "cell_type": "code",
   "execution_count": null,
   "metadata": {},
   "outputs": [],
   "source": [
    "# --- Saving/Loading Model's Weights (only) ---\n",
    "# Vanilla save/load\n",
    "model.save_weights(os.path.join(base_dir,'my_model_weights.h5'))\n",
    "model.load_weights(os.path.join(base_dir,'my_model_weights.h5'))\n",
    "\n",
    "# --- Transfer learning approach to re-load ---\n",
    "# When we load weights into a different \n",
    "# architeture with some common layers\n",
    "model.load_weights(os.path.join(base_dir,'my_model_weights.h5'), \n",
    "                   by_name=True)\n"
   ]
  },
  {
   "cell_type": "markdown",
   "metadata": {},
   "source": [
    "### Utility Functions\n",
    "- There are many functions which we have not covered however this should be enough to get you started\n",
    "- Some other utility functions include `shape`,`configuration` and `weights` which are applied to the model, see below for some examples:    "
   ]
  },
  {
   "cell_type": "code",
   "execution_count": null,
   "metadata": {},
   "outputs": [],
   "source": [
    "# --- Utility functions ---\n",
    "print(model.output_shape)\n",
    "print(model.get_config())\n",
    "model.get_weights()\n",
    "model.layers\n",
    "model.layers[0].input_shape\n",
    "model.layers[0].output_shape"
   ]
  },
  {
   "cell_type": "markdown",
   "metadata": {},
   "source": [
    "### Functional API\n",
    "Most of the network architectures we will explore can be implemented with a sequential stack of layers. Indeed, all deep feedforward networks, convolutional networks, and recurrent networks are of this type. However, it might be the case that network architecture requires \"branching\" of data flows and layers. An example might be a multi-task network with a set of shared weights. To solve problems of this type, Keras has an entirely different API that is a bit more flexible. \n",
    "\n",
    "You may never need this kind of network, but you can read more about the Functional API here:\n",
    "\n",
    "* https://keras.io/getting-started/functional-api-guide/"
   ]
  },
  {
   "cell_type": "markdown",
   "metadata": {},
   "source": [
    "## Exercise 1 - MNIST\n",
    "Load the MNIST image dataset. Use plt.imshow() to visualize a few of the images.\n",
    "\n",
    "1. Build a simple linear classifier to predict which image class is represented in each image. This should be equivalent to multi-class logistic regression and this model will serve as our baselne.\n",
    "\n",
    "2. Build a deeper network with ReLU activations.\n",
    "\n",
    "3. Experiment with using different optimizers: read the documentation for `adam` and `rmsprop` to understand and modify their hyperparameters. \n",
    "\n",
    "4. Includer regularizers in different parts of your network. Use a train/test split to evaluate the imact of regularizers."
   ]
  },
  {
   "cell_type": "code",
   "execution_count": 10,
   "metadata": {},
   "outputs": [],
   "source": [
    "from keras.datasets import mnist\n",
    "\n"
   ]
  },
  {
   "cell_type": "markdown",
   "metadata": {},
   "source": [
    "## Exercise 2 - Bullseye\n",
    "Recall the Bullseye (or Donut) type of dataset: a binary classification problem where one of the classes entirely surrounds the other. The simplest version of this looks like the following."
   ]
  },
  {
   "cell_type": "code",
   "execution_count": 6,
   "metadata": {},
   "outputs": [
    {
     "data": {
      "text/plain": [
       "<matplotlib.collections.PathCollection at 0x27b72f86a90>"
      ]
     },
     "execution_count": 6,
     "metadata": {},
     "output_type": "execute_result"
    },
    {
     "data": {
      "image/png": "[encoded data removed]",
      "text/plain": [
       "<Figure size 432x288 with 1 Axes>"
      ]
     },
     "metadata": {},
     "output_type": "display_data"
    }
   ],
   "source": [
    "X = np.random.uniform(-5, 5, 500)\n",
    "Y = np.zeros(len(X))\n",
    "Y[(X<1) & (X>-1)] = 1\n",
    "plt.scatter(X, np.ones(len(X)), c=Y)"
   ]
  },
  {
   "cell_type": "markdown",
   "metadata": {},
   "source": [
    "#### Model Build\n",
    "Build a network to solve this problem. What is the simplest network you can find that solves it? "
   ]
  },
  {
   "cell_type": "markdown",
   "metadata": {},
   "source": [
    "#### Visualization\n",
    "We can examine the activations (or outputs) of any layer of a Keras model. For us, it will be useful to visualize the representation that our model has created in order to solve this problem. Recall, the dataset in the original 1-Dimensional space is not separable. So it is interesting to examine what new representation our network has learned so that the data classes become separable.\n",
    "\n"
   ]
  },
  {
   "cell_type": "markdown",
   "metadata": {},
   "source": [
    "This utility allows us to create a function for extracting the outputs of any layer in a Keras model."
   ]
  },
  {
   "cell_type": "code",
   "execution_count": 7,
   "metadata": {},
   "outputs": [],
   "source": [
    "from keras import backend as K\n",
    "def extract_layer_output(model, layer_num):\n",
    "    return K.function([model.input] + [K.learning_phase()], [model.layers[layer_num].output])"
   ]
  },
  {
   "cell_type": "markdown",
   "metadata": {},
   "source": [
    "Create a model with only a single hidden layer and only 2 nodes in that hidden layer. Fit this model has been fit to the data. When we pass an observation through this network (forward pass) we can think outputs of the hidden layer as a representation of the observation, but in a new coordinate system that our network has learned. \n",
    "\n",
    "Let's calculate the activations at the hidden layer."
   ]
  },
  {
   "cell_type": "code",
   "execution_count": 8,
   "metadata": {},
   "outputs": [
    {
     "ename": "TypeError",
     "evalue": "`inputs` should be a list or tuple.",
     "output_type": "error",
     "traceback": [
      "\u001b[1;31m---------------------------------------------------------------------------\u001b[0m",
      "\u001b[1;31mTypeError\u001b[0m                                 Traceback (most recent call last)",
      "\u001b[1;32m<ipython-input-8-77dcb8781ac5>\u001b[0m in \u001b[0;36m<module>\u001b[1;34m()\u001b[0m\n\u001b[0;32m      1\u001b[0m \u001b[0mH1\u001b[0m \u001b[1;33m=\u001b[0m \u001b[0mextract_layer_output\u001b[0m\u001b[1;33m(\u001b[0m\u001b[0mmodel\u001b[0m\u001b[1;33m,\u001b[0m \u001b[1;36m0\u001b[0m\u001b[1;33m)\u001b[0m \u001b[1;31m# layer 0 is the first hidden layer\u001b[0m\u001b[1;33m\u001b[0m\u001b[0m\n\u001b[1;32m----> 2\u001b[1;33m \u001b[0mH1_output\u001b[0m \u001b[1;33m=\u001b[0m \u001b[0mH1\u001b[0m\u001b[1;33m(\u001b[0m\u001b[0mX\u001b[0m\u001b[1;33m[\u001b[0m\u001b[1;33m:\u001b[0m\u001b[1;33m,\u001b[0m\u001b[0mnp\u001b[0m\u001b[1;33m.\u001b[0m\u001b[0mnewaxis\u001b[0m\u001b[1;33m]\u001b[0m\u001b[1;33m)\u001b[0m \u001b[1;31m# what is the shape of the output matrix here?\u001b[0m\u001b[1;33m\u001b[0m\u001b[0m\n\u001b[0m",
      "\u001b[1;32m~\\Anaconda3\\lib\\site-packages\\keras\\backend\\tensorflow_backend.py\u001b[0m in \u001b[0;36m__call__\u001b[1;34m(self, inputs)\u001b[0m\n\u001b[0;32m   2713\u001b[0m                 \u001b[1;32mreturn\u001b[0m \u001b[0mself\u001b[0m\u001b[1;33m.\u001b[0m\u001b[0m_legacy_call\u001b[0m\u001b[1;33m(\u001b[0m\u001b[0minputs\u001b[0m\u001b[1;33m)\u001b[0m\u001b[1;33m\u001b[0m\u001b[0m\n\u001b[0;32m   2714\u001b[0m \u001b[1;33m\u001b[0m\u001b[0m\n\u001b[1;32m-> 2715\u001b[1;33m             \u001b[1;32mreturn\u001b[0m \u001b[0mself\u001b[0m\u001b[1;33m.\u001b[0m\u001b[0m_call\u001b[0m\u001b[1;33m(\u001b[0m\u001b[0minputs\u001b[0m\u001b[1;33m)\u001b[0m\u001b[1;33m\u001b[0m\u001b[0m\n\u001b[0m\u001b[0;32m   2716\u001b[0m         \u001b[1;32melse\u001b[0m\u001b[1;33m:\u001b[0m\u001b[1;33m\u001b[0m\u001b[0m\n\u001b[0;32m   2717\u001b[0m             \u001b[1;32mif\u001b[0m \u001b[0mpy_any\u001b[0m\u001b[1;33m(\u001b[0m\u001b[0mis_tensor\u001b[0m\u001b[1;33m(\u001b[0m\u001b[0mx\u001b[0m\u001b[1;33m)\u001b[0m \u001b[1;32mfor\u001b[0m \u001b[0mx\u001b[0m \u001b[1;32min\u001b[0m \u001b[0minputs\u001b[0m\u001b[1;33m)\u001b[0m\u001b[1;33m:\u001b[0m\u001b[1;33m\u001b[0m\u001b[0m\n",
      "\u001b[1;32m~\\Anaconda3\\lib\\site-packages\\keras\\backend\\tensorflow_backend.py\u001b[0m in \u001b[0;36m_call\u001b[1;34m(self, inputs)\u001b[0m\n\u001b[0;32m   2632\u001b[0m     \u001b[1;32mdef\u001b[0m \u001b[0m_call\u001b[0m\u001b[1;33m(\u001b[0m\u001b[0mself\u001b[0m\u001b[1;33m,\u001b[0m \u001b[0minputs\u001b[0m\u001b[1;33m)\u001b[0m\u001b[1;33m:\u001b[0m\u001b[1;33m\u001b[0m\u001b[0m\n\u001b[0;32m   2633\u001b[0m         \u001b[1;32mif\u001b[0m \u001b[1;32mnot\u001b[0m \u001b[0misinstance\u001b[0m\u001b[1;33m(\u001b[0m\u001b[0minputs\u001b[0m\u001b[1;33m,\u001b[0m \u001b[1;33m(\u001b[0m\u001b[0mlist\u001b[0m\u001b[1;33m,\u001b[0m \u001b[0mtuple\u001b[0m\u001b[1;33m)\u001b[0m\u001b[1;33m)\u001b[0m\u001b[1;33m:\u001b[0m\u001b[1;33m\u001b[0m\u001b[0m\n\u001b[1;32m-> 2634\u001b[1;33m             \u001b[1;32mraise\u001b[0m \u001b[0mTypeError\u001b[0m\u001b[1;33m(\u001b[0m\u001b[1;34m'`inputs` should be a list or tuple.'\u001b[0m\u001b[1;33m)\u001b[0m\u001b[1;33m\u001b[0m\u001b[0m\n\u001b[0m\u001b[0;32m   2635\u001b[0m \u001b[1;33m\u001b[0m\u001b[0m\n\u001b[0;32m   2636\u001b[0m         \u001b[0msession\u001b[0m \u001b[1;33m=\u001b[0m \u001b[0mget_session\u001b[0m\u001b[1;33m(\u001b[0m\u001b[1;33m)\u001b[0m\u001b[1;33m\u001b[0m\u001b[0m\n",
      "\u001b[1;31mTypeError\u001b[0m: `inputs` should be a list or tuple."
     ]
    }
   ],
   "source": [
    "H1 = extract_layer_output(model, 0) # layer 0 is the first hidden layer\n",
    "H1_output = H1(X[:,np.newaxis]) # what is the shape of the output matrix here?"
   ]
  },
  {
   "cell_type": "markdown",
   "metadata": {},
   "source": [
    "Make a visualization of the representation in the 2D hidden layer. Consider using a scatterplot and coloring each datapoint accoring to its class. Comment on this representation and why it allows us to solve the bullseye problem."
   ]
  },
  {
   "cell_type": "markdown",
   "metadata": {},
   "source": [
    "Repeat this process with the output layer. Make a visualization of X versus the final output Y, and color by class label."
   ]
  },
  {
   "cell_type": "markdown",
   "metadata": {},
   "source": [
    "## Exercise 3  - XOR\n",
    "We'll revisit the Scattered XOR dataset. Build any network to solve this classification problem. "
   ]
  },
  {
   "cell_type": "code",
   "execution_count": 9,
   "metadata": {},
   "outputs": [
    {
     "data": {
      "text/plain": [
       "<matplotlib.collections.PathCollection at 0x27b7302cd30>"
      ]
     },
     "execution_count": 9,
     "metadata": {},
     "output_type": "execute_result"
    },
    {
     "data": {
      "image/png": "[encoded data removed]",
      "text/plain": [
       "<Figure size 432x288 with 1 Axes>"
      ]
     },
     "metadata": {},
     "output_type": "display_data"
    }
   ],
   "source": [
    "x = np.random.uniform(low=-2,high=2,size=1000).reshape((500,2))\n",
    "y=np.zeros(500)\n",
    "y[np.logical_and(x[:,0]>0 , x[:,1]>0)]=1\n",
    "y[np.logical_and(x[:,0]<0 , x[:,1]<0)]=1\n",
    "\n",
    "plt.scatter(x[:,0], x[:,1], c=y)"
   ]
  },
  {
   "cell_type": "markdown",
   "metadata": {},
   "source": [
    "1. Experiment with networks of different capacity to try to find the \"simplest\" model that can solve this problem. \n",
    "\n",
    "2. Now do the opposite - build a deep and complex network to solve this problem. Which one seems easier to fit? \n",
    "\n",
    "3. Experiment with using different optimizers: read the documentation for `adam` and `rmsprop` to understand and modify their hyperparameters."
   ]
  },
  {
   "cell_type": "code",
   "execution_count": null,
   "metadata": {},
   "outputs": [],
   "source": []
  }
 ],
 "metadata": {
  "kernelspec": {
   "display_name": "Python 3",
   "language": "python",
   "name": "python3"
  },
  "language_info": {
   "codemirror_mode": {
    "name": "ipython",
    "version": 3
   },
   "file_extension": ".py",
   "mimetype": "text/x-python",
   "name": "python",
   "nbconvert_exporter": "python",
   "pygments_lexer": "ipython3",
   "version": "3.6.5"
  },
  "toc": {
   "base_numbering": 1,
   "nav_menu": {},
   "number_sections": true,
   "sideBar": true,
   "skip_h1_title": false,
   "title_cell": "Table of Contents",
   "title_sidebar": "Contents",
   "toc_cell": false,
   "toc_position": {},
   "toc_section_display": true,
   "toc_window_display": false
  }
 },
 "nbformat": 4,
 "nbformat_minor": 2
}
